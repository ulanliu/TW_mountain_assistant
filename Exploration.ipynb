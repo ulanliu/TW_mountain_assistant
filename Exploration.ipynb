{
 "cells": [
  {
   "cell_type": "code",
   "execution_count": 1,
   "id": "8b830cc3-ead8-4b80-8030-d8e4b86f976f",
   "metadata": {},
   "outputs": [],
   "source": [
    "import pandas as pd"
   ]
  },
  {
   "cell_type": "code",
   "execution_count": null,
   "id": "9207c970-ecb8-45c2-a188-2db246ee3c66",
   "metadata": {},
   "outputs": [],
   "source": [
    "df = pd.read_csv('raw_data.csv')"
   ]
  },
  {
   "cell_type": "code",
   "execution_count": 33,
   "id": "6cadccb4-5c6e-43b1-aa77-5f5133f68ef4",
   "metadata": {},
   "outputs": [
    {
     "name": "stdout",
     "output_type": "stream",
     "text": [
      "Original data: 447 rows, 4 columns\n"
     ]
    }
   ],
   "source": [
    "print(f\"Original data: {df.shape[0]} rows, {df.shape[1]} columns\")"
   ]
  },
  {
   "cell_type": "code",
   "execution_count": 34,
   "id": "98aba85b-6149-4d79-b56f-07505f9ff105",
   "metadata": {},
   "outputs": [
    {
     "name": "stdout",
     "output_type": "stream",
     "text": [
      "After removing rows with all nulls: 445 rows\n"
     ]
    }
   ],
   "source": [
    "df = df.dropna(how='all')\n",
    "print(f\"After removing rows with all nulls: {df.shape[0]} rows\")"
   ]
  },
  {
   "cell_type": "code",
   "execution_count": 35,
   "id": "b90e89b9-a96d-45d4-86a8-78d36f766091",
   "metadata": {},
   "outputs": [
    {
     "name": "stdout",
     "output_type": "stream",
     "text": [
      "<class 'pandas.core.frame.DataFrame'>\n",
      "Index: 445 entries, 0 to 446\n",
      "Data columns (total 4 columns):\n",
      " #   Column               Non-Null Count  Dtype \n",
      "---  ------               --------------  ----- \n",
      " 0   episode              445 non-null    object\n",
      " 1   title                445 non-null    object\n",
      " 2   summary              411 non-null    object\n",
      " 3   song_recommendation  133 non-null    object\n",
      "dtypes: object(4)\n",
      "memory usage: 17.4+ KB\n"
     ]
    }
   ],
   "source": [
    "df.info()"
   ]
  },
  {
   "cell_type": "code",
   "execution_count": 36,
   "id": "c1ace0f9-a3ba-4c08-80c3-9e2af3e964b1",
   "metadata": {},
   "outputs": [],
   "source": [
    "def clean_episode(ep):\n",
    "    if pd.isna(ep):\n",
    "        return np.nan\n",
    "\n",
    "    # Remove any non-numeric characters\n",
    "    ep_str = str(ep).strip()\n",
    "    digits = ''.join(c for c in ep_str if c.isdigit())\n",
    "\n",
    "    if digits:\n",
    "        return int(digits)\n",
    "    else:\n",
    "        return np.nan"
   ]
  },
  {
   "cell_type": "code",
   "execution_count": 37,
   "id": "49ab6d71-887a-46a3-a554-b7418ad27b8c",
   "metadata": {},
   "outputs": [],
   "source": [
    "df['episode'] = df['episode'].apply(clean_episode)"
   ]
  },
  {
   "cell_type": "code",
   "execution_count": 38,
   "id": "8e736f66-4eb9-427f-98a3-a92cfc19867d",
   "metadata": {},
   "outputs": [
    {
     "name": "stdout",
     "output_type": "stream",
     "text": [
      "After converting episodes to integers and dropping nulls: 445 rows\n"
     ]
    }
   ],
   "source": [
    "df = df.dropna(subset=['episode'])\n",
    "print(f\"After converting episodes to integers and dropping nulls: {df.shape[0]} rows\")"
   ]
  },
  {
   "cell_type": "code",
   "execution_count": 39,
   "id": "54286383-5ac6-4f2d-b6f8-57652fe86003",
   "metadata": {},
   "outputs": [],
   "source": [
    "# Trim whitespace from string columns\n",
    "for col in ['title', 'summary', 'song_recommendation']:\n",
    "    if col in df.columns:\n",
    "        df[col] = df[col].apply(lambda x: x.strip() if isinstance(x, str) else x)"
   ]
  },
  {
   "cell_type": "code",
   "execution_count": 40,
   "id": "a0caa1ce-7688-4f26-a793-a25fdcc322b7",
   "metadata": {},
   "outputs": [
    {
     "name": "stdout",
     "output_type": "stream",
     "text": [
      "Removed 1 duplicate episodes\n"
     ]
    }
   ],
   "source": [
    "# Remove duplicate episodes (keeping the first occurrence)\n",
    "original_len = len(df)\n",
    "df = df.drop_duplicates(subset=['episode'], keep='first')\n",
    "if len(df) < original_len:\n",
    "    print(f\"Removed {original_len - len(df)} duplicate episodes\")"
   ]
  },
  {
   "cell_type": "code",
   "execution_count": null,
   "id": "32cc2872-54bc-43cc-8d33-338b9186d617",
   "metadata": {},
   "outputs": [],
   "source": [
    "df.to_csv('podcast_data.csv', index=False)"
   ]
  },
  {
   "cell_type": "code",
   "execution_count": 43,
   "id": "79ad7ff3-ed4f-4017-ab4a-fa2a76255dd8",
   "metadata": {},
   "outputs": [
    {
     "data": {
      "text/html": [
       "<div>\n",
       "<style scoped>\n",
       "    .dataframe tbody tr th:only-of-type {\n",
       "        vertical-align: middle;\n",
       "    }\n",
       "\n",
       "    .dataframe tbody tr th {\n",
       "        vertical-align: top;\n",
       "    }\n",
       "\n",
       "    .dataframe thead th {\n",
       "        text-align: right;\n",
       "    }\n",
       "</style>\n",
       "<table border=\"1\" class=\"dataframe\">\n",
       "  <thead>\n",
       "    <tr style=\"text-align: right;\">\n",
       "      <th></th>\n",
       "      <th>episode</th>\n",
       "      <th>title</th>\n",
       "      <th>summary</th>\n",
       "      <th>song_recommendation</th>\n",
       "    </tr>\n",
       "  </thead>\n",
       "  <tbody>\n",
       "    <tr>\n",
       "      <th>0</th>\n",
       "      <td>1</td>\n",
       "      <td>沒錄到後半部的NMSL前世今生</td>\n",
       "      <td>NMSL你媽死了 最早是在CS看到的 msl是一個丹麥二線玩家（通常是一線貼紙比較貴）一個團...</td>\n",
       "      <td>NaN</td>\n",
       "    </tr>\n",
       "    <tr>\n",
       "      <th>1</th>\n",
       "      <td>2</td>\n",
       "      <td>我實在是想不到比多人運動更委婉的說法</td>\n",
       "      <td>A 片打炮算偷情 戴 VR 做愛舉報通姦罪 做公投 究極 no 選擇 用 VR 跟老婆做愛 ...</td>\n",
       "      <td>NaN</td>\n",
       "    </tr>\n",
       "    <tr>\n",
       "      <th>2</th>\n",
       "      <td>3</td>\n",
       "      <td>你聽過我爸連戰嗎?</td>\n",
       "      <td>強烈要求清大人社把學費還給艾莉莎莎，宿舍費不退 友人爭論時很愛拿綽號倒過來念來 不好笑的人都...</td>\n",
       "      <td>NaN</td>\n",
       "    </tr>\n",
       "    <tr>\n",
       "      <th>3</th>\n",
       "      <td>4</td>\n",
       "      <td>抄襲仔求生指南與周遊記挑戰失敗</td>\n",
       "      <td>Lofi house 便當怎麼抄襲都沒差 破鍋配爛蓋 不流汗的室內設計 風格師 5566 抄...</td>\n",
       "      <td>NaN</td>\n",
       "    </tr>\n",
       "    <tr>\n",
       "      <th>4</th>\n",
       "      <td>5</td>\n",
       "      <td>傑出人士表揚，李來希先生。</td>\n",
       "      <td>podcast 比 yt 好賺的原因 頻率 光頭葛格 抖內30元 祝生日快樂 先射箭再畫靶 ...</td>\n",
       "      <td>NaN</td>\n",
       "    </tr>\n",
       "  </tbody>\n",
       "</table>\n",
       "</div>"
      ],
      "text/plain": [
       "   episode               title  \\\n",
       "0        1     沒錄到後半部的NMSL前世今生   \n",
       "1        2  我實在是想不到比多人運動更委婉的說法   \n",
       "2        3           你聽過我爸連戰嗎?   \n",
       "3        4     抄襲仔求生指南與周遊記挑戰失敗   \n",
       "4        5       傑出人士表揚，李來希先生。   \n",
       "\n",
       "                                             summary song_recommendation  \n",
       "0  NMSL你媽死了 最早是在CS看到的 msl是一個丹麥二線玩家（通常是一線貼紙比較貴）一個團...                 NaN  \n",
       "1  A 片打炮算偷情 戴 VR 做愛舉報通姦罪 做公投 究極 no 選擇 用 VR 跟老婆做愛 ...                 NaN  \n",
       "2  強烈要求清大人社把學費還給艾莉莎莎，宿舍費不退 友人爭論時很愛拿綽號倒過來念來 不好笑的人都...                 NaN  \n",
       "3  Lofi house 便當怎麼抄襲都沒差 破鍋配爛蓋 不流汗的室內設計 風格師 5566 抄...                 NaN  \n",
       "4  podcast 比 yt 好賺的原因 頻率 光頭葛格 抖內30元 祝生日快樂 先射箭再畫靶 ...                 NaN  "
      ]
     },
     "execution_count": 43,
     "metadata": {},
     "output_type": "execute_result"
    }
   ],
   "source": [
    "df.head()"
   ]
  },
  {
   "cell_type": "code",
   "execution_count": null,
   "id": "c53c6dbc-b026-48b4-9771-82da9a68cb1e",
   "metadata": {},
   "outputs": [],
   "source": []
  }
 ],
 "metadata": {
  "kernelspec": {
   "display_name": "Python 3 (ipykernel)",
   "language": "python",
   "name": "python3"
  },
  "language_info": {
   "codemirror_mode": {
    "name": "ipython",
    "version": 3
   },
   "file_extension": ".py",
   "mimetype": "text/x-python",
   "name": "python",
   "nbconvert_exporter": "python",
   "pygments_lexer": "ipython3",
   "version": "3.12.1"
  }
 },
 "nbformat": 4,
 "nbformat_minor": 5
}
