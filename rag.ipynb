{
 "cells": [
  {
   "cell_type": "code",
   "execution_count": 1,
   "id": "b3f784ed-e930-4674-9d6e-2617542e7e73",
   "metadata": {},
   "outputs": [],
   "source": [
    "import pandas as pd\n",
    "import numpy as np\n",
    "import faiss\n",
    "from sklearn.preprocessing import StandardScaler"
   ]
  },
  {
   "cell_type": "code",
   "execution_count": 2,
   "id": "edbf0659-04af-4600-b992-8626a6b375c5",
   "metadata": {},
   "outputs": [],
   "source": [
    "df = pd.read_csv('data/spotify_dataset.csv')"
   ]
  },
  {
   "cell_type": "code",
   "execution_count": 3,
   "id": "ba856339-720b-4c21-ac16-4cd6cf13354b",
   "metadata": {},
   "outputs": [
    {
     "data": {
      "text/html": [
       "<div>\n",
       "<style scoped>\n",
       "    .dataframe tbody tr th:only-of-type {\n",
       "        vertical-align: middle;\n",
       "    }\n",
       "\n",
       "    .dataframe tbody tr th {\n",
       "        vertical-align: top;\n",
       "    }\n",
       "\n",
       "    .dataframe thead th {\n",
       "        text-align: right;\n",
       "    }\n",
       "</style>\n",
       "<table border=\"1\" class=\"dataframe\">\n",
       "  <thead>\n",
       "    <tr style=\"text-align: right;\">\n",
       "      <th></th>\n",
       "      <th>track_id</th>\n",
       "      <th>artists</th>\n",
       "      <th>album_name</th>\n",
       "      <th>track_name</th>\n",
       "      <th>popularity</th>\n",
       "      <th>duration_ms</th>\n",
       "      <th>explicit</th>\n",
       "      <th>danceability</th>\n",
       "      <th>energy</th>\n",
       "      <th>key</th>\n",
       "      <th>loudness</th>\n",
       "      <th>mode</th>\n",
       "      <th>speechiness</th>\n",
       "      <th>acousticness</th>\n",
       "      <th>instrumentalness</th>\n",
       "      <th>liveness</th>\n",
       "      <th>valence</th>\n",
       "      <th>tempo</th>\n",
       "      <th>time_signature</th>\n",
       "      <th>track_genre</th>\n",
       "    </tr>\n",
       "  </thead>\n",
       "  <tbody>\n",
       "    <tr>\n",
       "      <th>0</th>\n",
       "      <td>5SuOikwiRyPMVoIQDJUgSV</td>\n",
       "      <td>Gen Hoshino</td>\n",
       "      <td>Comedy</td>\n",
       "      <td>Comedy</td>\n",
       "      <td>73</td>\n",
       "      <td>230666</td>\n",
       "      <td>False</td>\n",
       "      <td>0.676</td>\n",
       "      <td>0.4610</td>\n",
       "      <td>1</td>\n",
       "      <td>-6.746</td>\n",
       "      <td>0</td>\n",
       "      <td>0.1430</td>\n",
       "      <td>0.0322</td>\n",
       "      <td>0.000001</td>\n",
       "      <td>0.3580</td>\n",
       "      <td>0.715</td>\n",
       "      <td>87.917</td>\n",
       "      <td>4</td>\n",
       "      <td>acoustic</td>\n",
       "    </tr>\n",
       "    <tr>\n",
       "      <th>1</th>\n",
       "      <td>4qPNDBW1i3p13qLCt0Ki3A</td>\n",
       "      <td>Ben Woodward</td>\n",
       "      <td>Ghost (Acoustic)</td>\n",
       "      <td>Ghost - Acoustic</td>\n",
       "      <td>55</td>\n",
       "      <td>149610</td>\n",
       "      <td>False</td>\n",
       "      <td>0.420</td>\n",
       "      <td>0.1660</td>\n",
       "      <td>1</td>\n",
       "      <td>-17.235</td>\n",
       "      <td>1</td>\n",
       "      <td>0.0763</td>\n",
       "      <td>0.9240</td>\n",
       "      <td>0.000006</td>\n",
       "      <td>0.1010</td>\n",
       "      <td>0.267</td>\n",
       "      <td>77.489</td>\n",
       "      <td>4</td>\n",
       "      <td>acoustic</td>\n",
       "    </tr>\n",
       "    <tr>\n",
       "      <th>2</th>\n",
       "      <td>1iJBSr7s7jYXzM8EGcbK5b</td>\n",
       "      <td>Ingrid Michaelson;ZAYN</td>\n",
       "      <td>To Begin Again</td>\n",
       "      <td>To Begin Again</td>\n",
       "      <td>57</td>\n",
       "      <td>210826</td>\n",
       "      <td>False</td>\n",
       "      <td>0.438</td>\n",
       "      <td>0.3590</td>\n",
       "      <td>0</td>\n",
       "      <td>-9.734</td>\n",
       "      <td>1</td>\n",
       "      <td>0.0557</td>\n",
       "      <td>0.2100</td>\n",
       "      <td>0.000000</td>\n",
       "      <td>0.1170</td>\n",
       "      <td>0.120</td>\n",
       "      <td>76.332</td>\n",
       "      <td>4</td>\n",
       "      <td>acoustic</td>\n",
       "    </tr>\n",
       "    <tr>\n",
       "      <th>3</th>\n",
       "      <td>6lfxq3CG4xtTiEg7opyCyx</td>\n",
       "      <td>Kina Grannis</td>\n",
       "      <td>Crazy Rich Asians (Original Motion Picture Sou...</td>\n",
       "      <td>Can't Help Falling In Love</td>\n",
       "      <td>71</td>\n",
       "      <td>201933</td>\n",
       "      <td>False</td>\n",
       "      <td>0.266</td>\n",
       "      <td>0.0596</td>\n",
       "      <td>0</td>\n",
       "      <td>-18.515</td>\n",
       "      <td>1</td>\n",
       "      <td>0.0363</td>\n",
       "      <td>0.9050</td>\n",
       "      <td>0.000071</td>\n",
       "      <td>0.1320</td>\n",
       "      <td>0.143</td>\n",
       "      <td>181.740</td>\n",
       "      <td>3</td>\n",
       "      <td>acoustic</td>\n",
       "    </tr>\n",
       "    <tr>\n",
       "      <th>4</th>\n",
       "      <td>5vjLSffimiIP26QG5WcN2K</td>\n",
       "      <td>Chord Overstreet</td>\n",
       "      <td>Hold On</td>\n",
       "      <td>Hold On</td>\n",
       "      <td>82</td>\n",
       "      <td>198853</td>\n",
       "      <td>False</td>\n",
       "      <td>0.618</td>\n",
       "      <td>0.4430</td>\n",
       "      <td>2</td>\n",
       "      <td>-9.681</td>\n",
       "      <td>1</td>\n",
       "      <td>0.0526</td>\n",
       "      <td>0.4690</td>\n",
       "      <td>0.000000</td>\n",
       "      <td>0.0829</td>\n",
       "      <td>0.167</td>\n",
       "      <td>119.949</td>\n",
       "      <td>4</td>\n",
       "      <td>acoustic</td>\n",
       "    </tr>\n",
       "  </tbody>\n",
       "</table>\n",
       "</div>"
      ],
      "text/plain": [
       "                 track_id                 artists  \\\n",
       "0  5SuOikwiRyPMVoIQDJUgSV             Gen Hoshino   \n",
       "1  4qPNDBW1i3p13qLCt0Ki3A            Ben Woodward   \n",
       "2  1iJBSr7s7jYXzM8EGcbK5b  Ingrid Michaelson;ZAYN   \n",
       "3  6lfxq3CG4xtTiEg7opyCyx            Kina Grannis   \n",
       "4  5vjLSffimiIP26QG5WcN2K        Chord Overstreet   \n",
       "\n",
       "                                          album_name  \\\n",
       "0                                             Comedy   \n",
       "1                                   Ghost (Acoustic)   \n",
       "2                                     To Begin Again   \n",
       "3  Crazy Rich Asians (Original Motion Picture Sou...   \n",
       "4                                            Hold On   \n",
       "\n",
       "                   track_name  popularity  duration_ms  explicit  \\\n",
       "0                      Comedy          73       230666     False   \n",
       "1            Ghost - Acoustic          55       149610     False   \n",
       "2              To Begin Again          57       210826     False   \n",
       "3  Can't Help Falling In Love          71       201933     False   \n",
       "4                     Hold On          82       198853     False   \n",
       "\n",
       "   danceability  energy  key  loudness  mode  speechiness  acousticness  \\\n",
       "0         0.676  0.4610    1    -6.746     0       0.1430        0.0322   \n",
       "1         0.420  0.1660    1   -17.235     1       0.0763        0.9240   \n",
       "2         0.438  0.3590    0    -9.734     1       0.0557        0.2100   \n",
       "3         0.266  0.0596    0   -18.515     1       0.0363        0.9050   \n",
       "4         0.618  0.4430    2    -9.681     1       0.0526        0.4690   \n",
       "\n",
       "   instrumentalness  liveness  valence    tempo  time_signature track_genre  \n",
       "0          0.000001    0.3580    0.715   87.917               4    acoustic  \n",
       "1          0.000006    0.1010    0.267   77.489               4    acoustic  \n",
       "2          0.000000    0.1170    0.120   76.332               4    acoustic  \n",
       "3          0.000071    0.1320    0.143  181.740               3    acoustic  \n",
       "4          0.000000    0.0829    0.167  119.949               4    acoustic  "
      ]
     },
     "execution_count": 3,
     "metadata": {},
     "output_type": "execute_result"
    }
   ],
   "source": [
    "df.head()"
   ]
  },
  {
   "cell_type": "code",
   "execution_count": 4,
   "id": "51f8af8d-d78d-4c60-9b41-158e5b53cbad",
   "metadata": {},
   "outputs": [
    {
     "name": "stdout",
     "output_type": "stream",
     "text": [
      "Recommendation 1: Comedy by Gen Hoshino\n",
      "  Distance: 0.0\n",
      "Recommendation 2: Comedy by Gen Hoshino\n",
      "  Distance: 0.0\n",
      "Recommendation 3: Comedy by Gen Hoshino\n",
      "  Distance: 0.0\n",
      "Recommendation 4: Comedy by Gen Hoshino\n",
      "  Distance: 0.0\n",
      "Recommendation 5: JAMAICA by Feid;Sech\n",
      "  Distance: 1.0294830799102783\n"
     ]
    }
   ],
   "source": [
    "# Select only numerical audio features\n",
    "feature_columns = [\n",
    "    'danceability', 'energy', 'key', 'loudness', 'mode', \n",
    "    'speechiness', 'acousticness', 'instrumentalness', \n",
    "    'liveness', 'valence', 'tempo', 'time_signature'\n",
    "]\n",
    "\n",
    "# Extract features and normalize them\n",
    "features = df[feature_columns].values\n",
    "scaler = StandardScaler()\n",
    "features_normalized = scaler.fit_transform(features).astype(np.float32)\n",
    "\n",
    "# Build Faiss index\n",
    "dimension = len(feature_columns)\n",
    "index = faiss.IndexFlatL2(dimension)\n",
    "index.add(features_normalized)\n",
    "\n",
    "# Create a mapping to retrieve track info after search\n",
    "index_to_track_id = df['track_id'].to_dict()\n",
    "\n",
    "# Example: search for similar tracks to the first track\n",
    "query_vector = features_normalized[0:1]  # Taking the first track as an example\n",
    "k = 5  # Number of results to return\n",
    "distances, indices = index.search(query_vector, k)\n",
    "\n",
    "# Get the recommended tracks\n",
    "for i, idx in enumerate(indices[0]):\n",
    "    print(f\"Recommendation {i+1}: {df.loc[idx, 'track_name']} by {df.loc[idx, 'artists']}\")\n",
    "    print(f\"  Distance: {distances[0][i]}\")"
   ]
  },
  {
   "cell_type": "code",
   "execution_count": 7,
   "id": "000889f6-96c3-4771-8607-ef5adc8d2728",
   "metadata": {},
   "outputs": [
    {
     "name": "stdout",
     "output_type": "stream",
     "text": [
      "Recommendation 1: Comedy by Gen Hoshino\n",
      "  Distance: 0.0\n",
      "Recommendation 2: Comedy by Gen Hoshino\n",
      "  Distance: 0.0\n",
      "Recommendation 3: Comedy by Gen Hoshino\n",
      "  Distance: 0.0\n",
      "Recommendation 4: Comedy by Gen Hoshino\n",
      "  Distance: 0.0\n",
      "Recommendation 5: JAMAICA by Feid;Sech\n",
      "  Distance: 1.0294830799102783\n"
     ]
    }
   ],
   "source": [
    "# Create a mapping from Faiss index position to track_id\n",
    "faiss_idx_to_track_id = {i: tid for i, tid in enumerate(df['track_id'])}\n",
    "\n",
    "# When retrieving search results:\n",
    "distances, indices = index.search(query_vector, k)\n",
    "\n",
    "# Use the mapping to get track_ids\n",
    "for i, idx in enumerate(indices[0]):\n",
    "    track_id = faiss_idx_to_track_id[idx]\n",
    "    track_info = df[df['track_id'] == track_id].iloc[0]\n",
    "    print(f\"Recommendation {i+1}: {track_info['track_name']} by {track_info['artists']}\")\n",
    "    print(f\"  Distance: {distances[0][i]}\")"
   ]
  },
  {
   "cell_type": "code",
   "execution_count": 11,
   "id": "50b6f58e-6e78-42e8-885c-6cc4797450a2",
   "metadata": {},
   "outputs": [
    {
     "data": {
      "text/plain": [
       "array([ 0.62924427, -0.71714795, -1.2104424 ,  0.30082834, -1.326281  ,\n",
       "        0.5518475 , -0.8502015 , -0.5041086 ,  0.7587433 ,  0.92930585,\n",
       "       -1.1418628 ,  0.22182319], dtype=float32)"
      ]
     },
     "execution_count": 11,
     "metadata": {},
     "output_type": "execute_result"
    }
   ],
   "source": [
    "features_normalized[0]"
   ]
  },
  {
   "cell_type": "code",
   "execution_count": 14,
   "id": "ea2ba43b-15f9-4b33-a14a-9a3bb27c3864",
   "metadata": {},
   "outputs": [
    {
     "data": {
      "text/plain": [
       "array([[ 6.7600e-01,  4.6100e-01,  1.0000e+00, -6.7460e+00,  0.0000e+00,\n",
       "         1.4300e-01,  3.2200e-02,  1.0100e-06,  3.5800e-01,  7.1500e-01,\n",
       "         8.7917e+01,  4.0000e+00],\n",
       "       [ 4.2000e-01,  1.6600e-01,  1.0000e+00, -1.7235e+01,  1.0000e+00,\n",
       "         7.6300e-02,  9.2400e-01,  5.5600e-06,  1.0100e-01,  2.6700e-01,\n",
       "         7.7489e+01,  4.0000e+00]])"
      ]
     },
     "execution_count": 14,
     "metadata": {},
     "output_type": "execute_result"
    }
   ],
   "source": [
    "features[0:2]"
   ]
  },
  {
   "cell_type": "code",
   "execution_count": 16,
   "id": "0244f7fd-ea72-41fa-9afb-12216707e354",
   "metadata": {},
   "outputs": [
    {
     "data": {
      "text/plain": [
       "array([     0,  62102,  99152, 102151,  81529])"
      ]
     },
     "execution_count": 16,
     "metadata": {},
     "output_type": "execute_result"
    }
   ],
   "source": [
    "indices[0]"
   ]
  },
  {
   "cell_type": "code",
   "execution_count": 28,
   "id": "64007378-f910-42c1-8868-4c5c2d4cba09",
   "metadata": {},
   "outputs": [
    {
     "data": {
      "text/plain": [
       "track_id            5SuOikwiRyPMVoIQDJUgSV\n",
       "artists                        Gen Hoshino\n",
       "album_name                          Comedy\n",
       "track_name                          Comedy\n",
       "popularity                              73\n",
       "duration_ms                         230666\n",
       "explicit                             False\n",
       "danceability                         0.676\n",
       "energy                               0.461\n",
       "key                                      1\n",
       "loudness                            -6.746\n",
       "mode                                     0\n",
       "speechiness                          0.143\n",
       "acousticness                        0.0322\n",
       "instrumentalness                  0.000001\n",
       "liveness                             0.358\n",
       "valence                              0.715\n",
       "tempo                               87.917\n",
       "time_signature                           4\n",
       "track_genre                       acoustic\n",
       "Name: 0, dtype: object"
      ]
     },
     "execution_count": 28,
     "metadata": {},
     "output_type": "execute_result"
    }
   ],
   "source": [
    "df.loc[0]"
   ]
  },
  {
   "cell_type": "code",
   "execution_count": 33,
   "id": "31918cc0-c971-4c73-bf19-0e65689b2f3f",
   "metadata": {},
   "outputs": [
    {
     "data": {
      "text/plain": [
       "track_id            5SuOikwiRyPMVoIQDJUgSV\n",
       "artists                        Gen Hoshino\n",
       "album_name                          Comedy\n",
       "track_name                          Comedy\n",
       "popularity                              73\n",
       "duration_ms                         230666\n",
       "explicit                             False\n",
       "danceability                         0.676\n",
       "energy                               0.461\n",
       "key                                      1\n",
       "loudness                            -6.746\n",
       "mode                                     0\n",
       "speechiness                          0.143\n",
       "acousticness                        0.0322\n",
       "instrumentalness                  0.000001\n",
       "liveness                             0.358\n",
       "valence                              0.715\n",
       "tempo                               87.917\n",
       "time_signature                           4\n",
       "track_genre              singer-songwriter\n",
       "Name: 99152, dtype: object"
      ]
     },
     "execution_count": 33,
     "metadata": {},
     "output_type": "execute_result"
    }
   ],
   "source": [
    "df.iloc[99152]"
   ]
  },
  {
   "cell_type": "code",
   "execution_count": 36,
   "id": "88d627fa-2d55-4090-8711-b9b06a9ee1de",
   "metadata": {},
   "outputs": [],
   "source": [
    "import requests"
   ]
  },
  {
   "cell_type": "code",
   "execution_count": 38,
   "id": "bc4d9c1d-eba1-4588-a9dd-4ebff86a7f25",
   "metadata": {},
   "outputs": [],
   "source": [
    "response = requests.post(\n",
    "    \"https://accounts.spotify.com/api/token\",\n",
    "    data = {\n",
    "        \"Content-Type: application/x-www-form-urlencoded\",\n",
    "        \"grant_type=client_credentials&client_id=bc31e0ab9ee1423dac853f1305583d47&client_secret=7e604447be9148f18b731e0a7991181d\"\n",
    "    }\n",
    ")"
   ]
  },
  {
   "cell_type": "code",
   "execution_count": 39,
   "id": "69dd5fe7-beef-4674-bf64-743ed5796523",
   "metadata": {},
   "outputs": [
    {
     "data": {
      "text/plain": [
       "'<!DOCTYPE html>\\n<html ng-app=\"accounts\" ng-csp>\\n  <head>\\n    <meta charset=\"utf-8\">\\n    <title>Error - Spotify</title>\\n    <meta name=\"viewport\" content=\"width=device-width, initial-scale=1.0, maximum-scale=1.0, user-scalable=no\">\\n    <base href=\"/\">\\n    <link rel=\"icon\" href=\"https://accounts.scdn.co/oauth2/images/favicon.ace4d8543bbb017893402a1e9d1ac1fa.ico\">\\n    <link href=\"\" media=\"screen\" rel=\"stylesheet\">\\n  </head>\\n  <body>\\n  <div class=\"head\">\\n    <a class=\"spotify-logo\" href=\"/\" tabindex=\"-1\" title=\"Spotify\"></a>\\n  </div>\\n\\n    <div class=\"container-fluid error\">\\n      <div class=\"content\">\\n        <h1 class=\"h1\">Error</h1>\\n        <p>\\n          Oops! Something went wrong, please try again or check out our <a href=\"https://www.spotify.com/help\">help area</a>.\\n        </p>\\n      </div>\\n    </div>\\n    <script async defer src=\"{2}\" sp-error=\\'{3}\\'></script>\\n  </body>\\n</html>\\n'"
      ]
     },
     "execution_count": 39,
     "metadata": {},
     "output_type": "execute_result"
    }
   ],
   "source": [
    "response.text"
   ]
  },
  {
   "cell_type": "code",
   "execution_count": 5,
   "id": "19544a10-b22e-4bd2-a6a4-91e7dc90166b",
   "metadata": {},
   "outputs": [],
   "source": [
    "## Step 3: Use the API to Get Artist Data\n",
    "\n",
    "import spotipy\n",
    "from spotipy.oauth2 import SpotifyClientCredentials\n",
    "\n",
    "# Set up credentials\n",
    "client_id = 'bc31e0ab9ee1423dac853f1305583d47'\n",
    "client_secret = '7e604447be9148f18b731e0a7991181d'\n",
    "\n",
    "# Initialize Spotify client\n",
    "client_credentials_manager = SpotifyClientCredentials(client_id=client_id, client_secret=client_secret)\n",
    "sp = spotipy.Spotify(client_credentials_manager=client_credentials_manager)"
   ]
  },
  {
   "cell_type": "code",
   "execution_count": 8,
   "id": "6772e3ba-67c2-4608-a071-9a176b30622e",
   "metadata": {},
   "outputs": [
    {
     "name": "stdout",
     "output_type": "stream",
     "text": [
      "Artist: Radiohead\n",
      "Popularity: 84\n",
      "Followers: 11678151\n",
      "Genres: art rock, alternative rock\n",
      "Spotify URL: https://open.spotify.com/artist/4Z8W4fKeB5YxbusRsdQVPb\n",
      "\n",
      "Top Tracks:\n",
      "1. Creep\n",
      "2. No Surprises\n",
      "3. Karma Police\n",
      "4. All I Need\n",
      "5. Jigsaw Falling Into Place\n",
      "No artist found with the name Radiohead\n"
     ]
    }
   ],
   "source": [
    "# Get data for a specific artist by name\n",
    "def get_artist_data(artist_name):\n",
    "    try:\n",
    "        # Search for the artist\n",
    "        results = sp.search(q='artist:' + artist_name, type='artist')\n",
    "        items = results['artists']['items']\n",
    "        \n",
    "        if len(items) > 0:\n",
    "            artist = items[0]\n",
    "            print(f\"Artist: {artist['name']}\")\n",
    "            print(f\"Popularity: {artist['popularity']}\")\n",
    "            print(f\"Followers: {artist['followers']['total']}\")\n",
    "            print(f\"Genres: {', '.join(artist['genres'])}\")\n",
    "            print(f\"Spotify URL: {artist['external_urls']['spotify']}\")\n",
    "            \n",
    "            # Get the artist's top tracks with error handling\n",
    "            try:\n",
    "                top_tracks = sp.artist_top_tracks(artist['id'])\n",
    "                print(\"\\nTop Tracks:\")\n",
    "                for i, track in enumerate(top_tracks['tracks'][:5], 1):\n",
    "                    print(f\"{i}. {track['name']}\")\n",
    "            except Exception as e:\n",
    "                print(f\"\\nCouldn't retrieve top tracks: {str(e)}\")\n",
    "                \n",
    "            # Add a small delay between API calls to avoid rate limiting\n",
    "            time.sleep(0.5)\n",
    "        \n",
    "        # Get related artists with error handling\n",
    "        try:\n",
    "            related = sp.artist_related_artists(artist['id'])\n",
    "            print(\"\\nRelated Artists:\")\n",
    "            for i, related_artist in enumerate(related['artists'][:5], 1):\n",
    "                print(f\"{i}. {related_artist['name']}\")\n",
    "        except Exception as e:\n",
    "            print(f\"\\nCouldn't retrieve related artists: {str(e)}\")\n",
    "        \n",
    "        return artist\n",
    "    except:\n",
    "        print(f\"No artist found with the name {artist_name}\")\n",
    "        return None\n",
    "\n",
    "# Example usage\n",
    "artist_data = get_artist_data(\"Radiohead\")"
   ]
  },
  {
   "cell_type": "code",
   "execution_count": 11,
   "id": "656fdb37-b5e7-4fb4-ba8d-dee8eb38668f",
   "metadata": {},
   "outputs": [],
   "source": [
    "results = sp.search(q='artist: Radiohead' , type='artist')"
   ]
  },
  {
   "cell_type": "code",
   "execution_count": 15,
   "id": "9e241e08-0eae-4155-8fe6-3f6d4bf1094a",
   "metadata": {},
   "outputs": [
    {
     "data": {
      "text/plain": [
       "{'external_urls': {'spotify': 'https://open.spotify.com/artist/3zGGhKGLorCRgcXc22gYDX'},\n",
       " 'followers': {'href': None, 'total': 22309},\n",
       " 'genres': ['taiwanese indie',\n",
       "  'chinese indie',\n",
       "  'chinese rock',\n",
       "  'taiwanese pop'],\n",
       " 'href': 'https://api.spotify.com/v1/artists/3zGGhKGLorCRgcXc22gYDX',\n",
       " 'id': '3zGGhKGLorCRgcXc22gYDX',\n",
       " 'images': [{'url': 'https://i.scdn.co/image/ab6761610000e5eb3bbca1d080c9362e623b97db',\n",
       "   'height': 640,\n",
       "   'width': 640},\n",
       "  {'url': 'https://i.scdn.co/image/ab676161000051743bbca1d080c9362e623b97db',\n",
       "   'height': 320,\n",
       "   'width': 320},\n",
       "  {'url': 'https://i.scdn.co/image/ab6761610000f1783bbca1d080c9362e623b97db',\n",
       "   'height': 160,\n",
       "   'width': 160}],\n",
       " 'name': 'FUMON',\n",
       " 'popularity': 42,\n",
       " 'type': 'artist',\n",
       " 'uri': 'spotify:artist:3zGGhKGLorCRgcXc22gYDX'}"
      ]
     },
     "execution_count": 15,
     "metadata": {},
     "output_type": "execute_result"
    }
   ],
   "source": [
    "results['artists']['items'][0]"
   ]
  },
  {
   "cell_type": "code",
   "execution_count": null,
   "id": "207f7b1f-27d2-49aa-bf7f-53fbd6c8536c",
   "metadata": {},
   "outputs": [],
   "source": [
    "# Getting multiple artists\n",
    "def get_artists_by_genre(genre, limit=10):\n",
    "    results = sp.search(q=f'genre:{genre}', type='artist', limit=limit)\n",
    "    artists = results['artists']['items']\n",
    "    \n",
    "    print(f\"\\nTop {limit} {genre} Artists:\")\n",
    "    for i, artist in enumerate(artists, 1):\n",
    "        print(f\"{i}. {artist['name']} (Popularity: {artist['popularity']})\")\n",
    "    \n",
    "    return artists\n",
    "\n",
    "# Example usage\n",
    "rock_artists = get_artists_by_genre(\"rock\")"
   ]
  },
  {
   "cell_type": "code",
   "execution_count": null,
   "id": "3d121afa-c5f0-473d-a524-9b9d460421e9",
   "metadata": {},
   "outputs": [],
   "source": [
    "## Step 4: Get More Detailed Artist Information\n",
    "# Get an artist's albums\n",
    "def get_artist_albums(artist_name, album_limit=10):\n",
    "    # Search for the artist first\n",
    "    results = sp.search(q='artist:' + artist_name, type='artist')\n",
    "    items = results['artists']['items']\n",
    "    \n",
    "    if len(items) > 0:\n",
    "        artist = items[0]\n",
    "        artist_id = artist['id']\n",
    "        \n",
    "        # Get albums\n",
    "        albums = sp.artist_albums(artist_id, album_type='album', limit=album_limit)\n",
    "        \n",
    "        print(f\"\\nAlbums by {artist['name']}:\")\n",
    "        for i, album in enumerate(albums['items'], 1):\n",
    "            print(f\"{i}. {album['name']} ({album['release_date'][:4]})\")\n",
    "            \n",
    "            # Get tracks for each album\n",
    "            tracks = sp.album_tracks(album['id'])\n",
    "            for j, track in enumerate(tracks['items'], 1):\n",
    "                print(f\"   {j}. {track['name']} - {track['duration_ms'] // 60000}:{(track['duration_ms'] % 60000) // 1000:02d}\")\n",
    "        \n",
    "        return albums['items']\n",
    "    else:\n",
    "        print(f\"No artist found with the name {artist_name}\")\n",
    "        return None\n",
    "\n",
    "# Example usage\n",
    "radiohead_albums = get_artist_albums(\"Radiohead\", album_limit=5)\n",
    "```\n",
    "\n",
    "## Notes on Authentication\n",
    "- The above examples use Client Credentials Flow, which is suitable for accessing public data\n",
    "- If you need to access user-specific data, you'll need to use Authorization Code Flow\n",
    "- For user-specific data, modify your authentication like this:\n",
    "\n",
    "```python\n",
    "from spotipy.oauth2 import SpotifyOAuth\n",
    "\n",
    "scope = \"user-library-read\"  # Add more scopes as needed\n",
    "sp = spotipy.Spotify(auth_manager=SpotifyOAuth(\n",
    "    client_id=client_id,\n",
    "    client_secret=client_secret,\n",
    "    redirect_uri=\"http://localhost:8888/callback\",  # Must match your app settings\n",
    "    scope=scope\n",
    "))\n",
    "\n",
    "# Now you can access user data\n",
    "results = sp.current_user_saved_tracks()\n",
    "for item in results['items']:\n",
    "    track = item['track']\n",
    "    print(f\"{track['artists'][0]['name']} - {track['name']}\")\n",
    "```"
   ]
  }
 ],
 "metadata": {
  "kernelspec": {
   "display_name": "Python 3 (ipykernel)",
   "language": "python",
   "name": "python3"
  },
  "language_info": {
   "codemirror_mode": {
    "name": "ipython",
    "version": 3
   },
   "file_extension": ".py",
   "mimetype": "text/x-python",
   "name": "python",
   "nbconvert_exporter": "python",
   "pygments_lexer": "ipython3",
   "version": "3.9.13"
  }
 },
 "nbformat": 4,
 "nbformat_minor": 5
}
